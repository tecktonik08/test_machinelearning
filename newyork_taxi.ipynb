{
 "cells": [
  {
   "cell_type": "markdown",
   "id": "976551e6",
   "metadata": {},
   "source": [
    "가설 : 택시 승객 수가 많을수록 운행시간이 길지 않을까?\n",
    "    x : passenger_count (type : int64)\n",
    "    y : trip_duration (type : int64)\n",
    "    \n",
    "모든 score가 0.0007 아래이므로 x와 y는 독립적이다.\n",
    "택시 승객 수는 운행시간에 영향을 주지 않는다."
   ]
  },
  {
   "cell_type": "code",
   "execution_count": 1,
   "id": "f971d7cc",
   "metadata": {},
   "outputs": [],
   "source": [
    "import sklearn"
   ]
  },
  {
   "cell_type": "code",
   "execution_count": 2,
   "id": "d9b45927",
   "metadata": {},
   "outputs": [],
   "source": [
    "%load_ext autoreload\n",
    "\n",
    "%autoreload 2"
   ]
  },
  {
   "cell_type": "markdown",
   "id": "88a600c3",
   "metadata": {},
   "source": [
    "## 정보단계"
   ]
  },
  {
   "cell_type": "code",
   "execution_count": 3,
   "id": "0aeb9aaa",
   "metadata": {},
   "outputs": [],
   "source": [
    "import pandas as pd"
   ]
  },
  {
   "cell_type": "code",
   "execution_count": 4,
   "id": "f375f3df",
   "metadata": {},
   "outputs": [
    {
     "name": "stdout",
     "output_type": "stream",
     "text": [
      "<class 'pandas.core.frame.DataFrame'>\n",
      "RangeIndex: 1458644 entries, 0 to 1458643\n",
      "Data columns (total 11 columns):\n",
      " #   Column              Non-Null Count    Dtype  \n",
      "---  ------              --------------    -----  \n",
      " 0   id                  1458644 non-null  object \n",
      " 1   vendor_id           1458644 non-null  int64  \n",
      " 2   pickup_datetime     1458644 non-null  object \n",
      " 3   dropoff_datetime    1458644 non-null  object \n",
      " 4   passenger_count     1458644 non-null  int64  \n",
      " 5   pickup_longitude    1458644 non-null  float64\n",
      " 6   pickup_latitude     1458644 non-null  float64\n",
      " 7   dropoff_longitude   1458644 non-null  float64\n",
      " 8   dropoff_latitude    1458644 non-null  float64\n",
      " 9   store_and_fwd_flag  1458644 non-null  object \n",
      " 10  trip_duration       1458644 non-null  int64  \n",
      "dtypes: float64(4), int64(3), object(4)\n",
      "memory usage: 122.4+ MB\n"
     ]
    }
   ],
   "source": [
    "pd_data = pd.read_csv('./train.csv')\n",
    "pd_data.info()"
   ]
  },
  {
   "cell_type": "markdown",
   "id": "3621e1f9",
   "metadata": {},
   "source": [
    "문제 & 답 컬럼 선택"
   ]
  },
  {
   "cell_type": "code",
   "execution_count": 5,
   "id": "e65dc8d6",
   "metadata": {},
   "outputs": [
    {
     "data": {
      "text/plain": [
       "((1458644, 1), (1458644, 1))"
      ]
     },
     "execution_count": 5,
     "metadata": {},
     "output_type": "execute_result"
    }
   ],
   "source": [
    "x = pd_data[['passenger_count']]\n",
    "y = pd_data[['trip_duration']]\n",
    "x.shape, y.shape"
   ]
  },
  {
   "cell_type": "markdown",
   "id": "c9e559d8",
   "metadata": {},
   "source": [
    "## 교육단계"
   ]
  },
  {
   "cell_type": "markdown",
   "id": "e2845cec",
   "metadata": {},
   "source": [
    "데이터 split"
   ]
  },
  {
   "cell_type": "code",
   "execution_count": 6,
   "id": "c8e3c5cb",
   "metadata": {},
   "outputs": [],
   "source": [
    "from sklearn.model_selection import train_test_split"
   ]
  },
  {
   "cell_type": "code",
   "execution_count": 7,
   "id": "98c584b7",
   "metadata": {},
   "outputs": [
    {
     "data": {
      "text/plain": [
       "((1093983, 1), (364661, 1), (1093983, 1), (364661, 1))"
      ]
     },
     "execution_count": 7,
     "metadata": {},
     "output_type": "execute_result"
    }
   ],
   "source": [
    "X_train, X_test, Y_train, Y_test = train_test_split(x,y)\n",
    "X_train.shape, X_test.shape, Y_train.shape, Y_test.shape"
   ]
  },
  {
   "cell_type": "markdown",
   "id": "ef675e44",
   "metadata": {},
   "source": [
    "Linear Regression"
   ]
  },
  {
   "cell_type": "code",
   "execution_count": 8,
   "id": "0f5feeef",
   "metadata": {},
   "outputs": [],
   "source": [
    "from sklearn.linear_model import LinearRegression"
   ]
  },
  {
   "cell_type": "code",
   "execution_count": 9,
   "id": "8cb964d0",
   "metadata": {},
   "outputs": [],
   "source": [
    "lr = LinearRegression()"
   ]
  },
  {
   "cell_type": "code",
   "execution_count": 10,
   "id": "4053cfa2",
   "metadata": {},
   "outputs": [
    {
     "data": {
      "text/plain": [
       "LinearRegression()"
      ]
     },
     "execution_count": 10,
     "metadata": {},
     "output_type": "execute_result"
    }
   ],
   "source": [
    "lr.fit(X_train, Y_train)"
   ]
  },
  {
   "cell_type": "markdown",
   "id": "849da05d",
   "metadata": {},
   "source": [
    "model 점수 (total, train, test)"
   ]
  },
  {
   "cell_type": "code",
   "execution_count": 11,
   "id": "91cb8a40",
   "metadata": {},
   "outputs": [
    {
     "data": {
      "text/plain": [
       "7.16294769987913e-05"
      ]
     },
     "execution_count": 11,
     "metadata": {},
     "output_type": "execute_result"
    }
   ],
   "source": [
    "lr.score(x,y)"
   ]
  },
  {
   "cell_type": "code",
   "execution_count": 12,
   "id": "5565c12d",
   "metadata": {},
   "outputs": [
    {
     "data": {
      "text/plain": [
       "5.721606836595061e-05"
      ]
     },
     "execution_count": 12,
     "metadata": {},
     "output_type": "execute_result"
    }
   ],
   "source": [
    "lr.score(X_train, Y_train)"
   ]
  },
  {
   "cell_type": "code",
   "execution_count": 13,
   "id": "0a64653f",
   "metadata": {},
   "outputs": [
    {
     "data": {
      "text/plain": [
       "0.00020845135097524725"
      ]
     },
     "execution_count": 13,
     "metadata": {},
     "output_type": "execute_result"
    }
   ],
   "source": [
    "lr.score(X_test, Y_test)"
   ]
  },
  {
   "cell_type": "markdown",
   "id": "a9fbed60",
   "metadata": {},
   "source": [
    "# 서비스 단계\n",
    "\n",
    "pickle 저장, 불러오기"
   ]
  },
  {
   "cell_type": "code",
   "execution_count": 14,
   "id": "65a31174",
   "metadata": {},
   "outputs": [],
   "source": [
    "import pickle"
   ]
  },
  {
   "cell_type": "code",
   "execution_count": 15,
   "id": "b812ddfe",
   "metadata": {},
   "outputs": [],
   "source": [
    "pickle.dump(lr, open('./saves/newyork_taxi.pkl','wb'))"
   ]
  },
  {
   "cell_type": "code",
   "execution_count": 16,
   "id": "621492e1",
   "metadata": {},
   "outputs": [
    {
     "data": {
      "text/plain": [
       "(1093983, 1)"
      ]
     },
     "execution_count": 16,
     "metadata": {},
     "output_type": "execute_result"
    }
   ],
   "source": [
    "Y_predict = lr.predict(X_train)\n",
    "Y_predict.shape"
   ]
  },
  {
   "cell_type": "code",
   "execution_count": 17,
   "id": "9cda2136",
   "metadata": {},
   "outputs": [
    {
     "data": {
      "text/html": [
       "<div>\n",
       "<style scoped>\n",
       "    .dataframe tbody tr th:only-of-type {\n",
       "        vertical-align: middle;\n",
       "    }\n",
       "\n",
       "    .dataframe tbody tr th {\n",
       "        vertical-align: top;\n",
       "    }\n",
       "\n",
       "    .dataframe thead th {\n",
       "        text-align: right;\n",
       "    }\n",
       "</style>\n",
       "<table border=\"1\" class=\"dataframe\">\n",
       "  <thead>\n",
       "    <tr style=\"text-align: right;\">\n",
       "      <th></th>\n",
       "      <th>trip_duration</th>\n",
       "    </tr>\n",
       "  </thead>\n",
       "  <tbody>\n",
       "    <tr>\n",
       "      <th>181570</th>\n",
       "      <td>-733.279290</td>\n",
       "    </tr>\n",
       "    <tr>\n",
       "      <th>483622</th>\n",
       "      <td>-551.160072</td>\n",
       "    </tr>\n",
       "    <tr>\n",
       "      <th>1274287</th>\n",
       "      <td>-269.279290</td>\n",
       "    </tr>\n",
       "    <tr>\n",
       "      <th>50264</th>\n",
       "      <td>-602.160072</td>\n",
       "    </tr>\n",
       "    <tr>\n",
       "      <th>452041</th>\n",
       "      <td>851.839928</td>\n",
       "    </tr>\n",
       "    <tr>\n",
       "      <th>...</th>\n",
       "      <td>...</td>\n",
       "    </tr>\n",
       "    <tr>\n",
       "      <th>299781</th>\n",
       "      <td>794.839928</td>\n",
       "    </tr>\n",
       "    <tr>\n",
       "      <th>906143</th>\n",
       "      <td>141.839928</td>\n",
       "    </tr>\n",
       "    <tr>\n",
       "      <th>1357753</th>\n",
       "      <td>-537.160072</td>\n",
       "    </tr>\n",
       "    <tr>\n",
       "      <th>722253</th>\n",
       "      <td>-39.160072</td>\n",
       "    </tr>\n",
       "    <tr>\n",
       "      <th>89260</th>\n",
       "      <td>-433.279290</td>\n",
       "    </tr>\n",
       "  </tbody>\n",
       "</table>\n",
       "<p>1093983 rows × 1 columns</p>\n",
       "</div>"
      ],
      "text/plain": [
       "         trip_duration\n",
       "181570     -733.279290\n",
       "483622     -551.160072\n",
       "1274287    -269.279290\n",
       "50264      -602.160072\n",
       "452041      851.839928\n",
       "...                ...\n",
       "299781      794.839928\n",
       "906143      141.839928\n",
       "1357753    -537.160072\n",
       "722253      -39.160072\n",
       "89260      -433.279290\n",
       "\n",
       "[1093983 rows x 1 columns]"
      ]
     },
     "execution_count": 17,
     "metadata": {},
     "output_type": "execute_result"
    }
   ],
   "source": [
    "Y_result = Y_train - Y_predict\n",
    "Y_result"
   ]
  },
  {
   "cell_type": "code",
   "execution_count": null,
   "id": "0e5869f6",
   "metadata": {},
   "outputs": [],
   "source": []
  }
 ],
 "metadata": {
  "kernelspec": {
   "display_name": "Python 3",
   "language": "python",
   "name": "python3"
  },
  "language_info": {
   "codemirror_mode": {
    "name": "ipython",
    "version": 3
   },
   "file_extension": ".py",
   "mimetype": "text/x-python",
   "name": "python",
   "nbconvert_exporter": "python",
   "pygments_lexer": "ipython3",
   "version": "3.6.4"
  }
 },
 "nbformat": 4,
 "nbformat_minor": 5
}
