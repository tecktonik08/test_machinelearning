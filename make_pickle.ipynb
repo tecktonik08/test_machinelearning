{
 "cells": [
  {
   "cell_type": "code",
   "execution_count": 1,
   "id": "289f9871",
   "metadata": {},
   "outputs": [],
   "source": [
    "import pickle"
   ]
  },
  {
   "cell_type": "code",
   "execution_count": 2,
   "id": "09c913a2",
   "metadata": {},
   "outputs": [],
   "source": [
    "favorite = {'lion':'yellow','tiger':'red'}"
   ]
  },
  {
   "cell_type": "code",
   "execution_count": 5,
   "id": "8bdc96a8",
   "metadata": {},
   "outputs": [],
   "source": [
    "# as machine learning, favorite --> model variable\n",
    "pickle.dump(favorite, open('./saves/favorite_save.pkl','wb'))"
   ]
  },
  {
   "cell_type": "code",
   "execution_count": null,
   "id": "3e0d5ced",
   "metadata": {},
   "outputs": [],
   "source": []
  }
 ],
 "metadata": {
  "kernelspec": {
   "display_name": "Python 3",
   "language": "python",
   "name": "python3"
  },
  "language_info": {
   "codemirror_mode": {
    "name": "ipython",
    "version": 3
   },
   "file_extension": ".py",
   "mimetype": "text/x-python",
   "name": "python",
   "nbconvert_exporter": "python",
   "pygments_lexer": "ipython3",
   "version": "3.6.4"
  }
 },
 "nbformat": 4,
 "nbformat_minor": 5
}
